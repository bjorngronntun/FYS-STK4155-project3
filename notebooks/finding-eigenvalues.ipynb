{
 "cells": [
  {
   "cell_type": "code",
   "execution_count": 2,
   "metadata": {},
   "outputs": [],
   "source": [
    "import os\n",
    "os.sys.path.append(os.path.dirname(os.path.abspath('.')))\n",
    "import numpy as np\n",
    "import tensorflow as tf\n",
    "import matplotlib.pyplot as plt\n",
    "from sklearn.metrics import mean_squared_error"
   ]
  },
  {
   "cell_type": "code",
   "execution_count": 4,
   "metadata": {},
   "outputs": [],
   "source": [
    "# Import local modules\n",
    "from src.eigenvectors import eigen"
   ]
  },
  {
   "cell_type": "code",
   "execution_count": 41,
   "metadata": {},
   "outputs": [
    {
     "name": "stdout",
     "output_type": "stream",
     "text": [
      "Iteration 0\n",
      "[-0.48325111 -0.09880817 -0.37293659 -0.56234451  0.52036131 -0.17497534]\n"
     ]
    }
   ],
   "source": [
    "# Create random real symmetric matrix\n",
    "np.random.seed(43)\n",
    "Q = np.random.randn(6, 6)\n",
    "A = 0.5*(Q.transpose() + Q)\n",
    "\n",
    "#Compute eigenvector corresponding to minimal eigenvalue:\n",
    "tf.reset_default_graph()\n",
    "computed_min_eigenvector = eigen(A, 5, [5, 5], tolerance=0.000001, max_value=False).ravel()\n",
    "print(computed_min_eigenvector)"
   ]
  },
  {
   "cell_type": "code",
   "execution_count": 42,
   "metadata": {},
   "outputs": [
    {
     "name": "stdout",
     "output_type": "stream",
     "text": [
      "Iteration 0\n",
      "[-0.29924905  0.70447592  0.13396706 -0.056682    0.09878272  0.61906836]\n"
     ]
    }
   ],
   "source": [
    "#Compute eigenvector corresponding to maximal eigenvalue:\n",
    "tf.reset_default_graph()\n",
    "computed_max_eigenvector = eigen(A, 5, [5, 5], tolerance=0.000001).ravel()\n",
    "print(computed_max_eigenvector)"
   ]
  },
  {
   "cell_type": "code",
   "execution_count": 43,
   "metadata": {},
   "outputs": [
    {
     "name": "stdout",
     "output_type": "stream",
     "text": [
      "[-0.48325113 -0.09880754 -0.37293672 -0.56234454  0.52036144 -0.17497488]\n",
      "[ 0.29925207 -0.7044717  -0.13396935  0.05667731 -0.0987871  -0.61907093]\n"
     ]
    }
   ],
   "source": [
    "# Compute solutions using numpy\n",
    "eigenpairs = np.linalg.eig(A)\n",
    "min_index = np.argmin(eigenpairs[0])\n",
    "max_index = np.argmax(eigenpairs[0])\n",
    "\n",
    "numpy_min_eigenvector = eigenpairs[1][:, min_index]\n",
    "numpy_max_eigenvector = eigenpairs[1][:, max_index]\n",
    "print(numpy_min_eigenvector)\n",
    "print(numpy_max_eigenvector)"
   ]
  },
  {
   "cell_type": "code",
   "execution_count": 44,
   "metadata": {},
   "outputs": [],
   "source": [
    "# If eigenvectors point in opposite direction, multiply by -1:\n",
    "if (computed_min_eigenvector[0] < 0 and numpy_min_eigenvector[0] > 0):\n",
    "    computed_min_eigenvector *= -1\n",
    "if (computed_min_eigenvector[0] > 0 and numpy_min_eigenvector[0] < 0):\n",
    "    computed_min_eigenvector *= -1\n",
    "if (computed_max_eigenvector[0] < 0 and numpy_max_eigenvector[0] > 0):\n",
    "    computed_max_eigenvector *= -1\n",
    "if (computed_max_eigenvector[0] > 0 and numpy_max_eigenvector[0] < 0):\n",
    "    computed_max_eigenvector *= -1    "
   ]
  },
  {
   "cell_type": "code",
   "execution_count": 49,
   "metadata": {},
   "outputs": [
    {
     "name": "stdout",
     "output_type": "stream",
     "text": [
      "MSE for eigenvector corresponding to smallest eigenvalue: 1.0570422148892076e-13\n",
      "MSE for eigenvector corresponding to largest eigenvalue: 1.3322730244124061e-11\n"
     ]
    }
   ],
   "source": [
    "# Compute mse scores:\n",
    "print('MSE for eigenvector corresponding to smallest eigenvalue:', mean_squared_error(numpy_min_eigenvector, computed_min_eigenvector))\n",
    "print('MSE for eigenvector corresponding to largest eigenvalue:', mean_squared_error(numpy_max_eigenvector, computed_max_eigenvector))\n"
   ]
  },
  {
   "cell_type": "code",
   "execution_count": null,
   "metadata": {},
   "outputs": [],
   "source": []
  }
 ],
 "metadata": {
  "kernelspec": {
   "display_name": "Python [conda env:anaconda]",
   "language": "python",
   "name": "conda-env-anaconda-py"
  },
  "language_info": {
   "codemirror_mode": {
    "name": "ipython",
    "version": 3
   },
   "file_extension": ".py",
   "mimetype": "text/x-python",
   "name": "python",
   "nbconvert_exporter": "python",
   "pygments_lexer": "ipython3",
   "version": "3.5.6"
  }
 },
 "nbformat": 4,
 "nbformat_minor": 2
}
