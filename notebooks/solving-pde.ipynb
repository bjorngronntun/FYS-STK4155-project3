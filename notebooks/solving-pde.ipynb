{
 "cells": [
  {
   "cell_type": "code",
   "execution_count": 1,
   "metadata": {},
   "outputs": [],
   "source": [
    "import os\n",
    "os.sys.path.append(os.path.dirname(os.path.abspath('.')))\n",
    "import numpy as np\n",
    "import tensorflow as tf\n",
    "import matplotlib.pyplot as plt\n",
    "from sklearn.metrics import mean_squared_error"
   ]
  },
  {
   "cell_type": "code",
   "execution_count": 2,
   "metadata": {},
   "outputs": [],
   "source": [
    "# Import local modules\n",
    "from src.analytic import analytic\n",
    "from src.difference import difference\n",
    "from src.neural import neural"
   ]
  },
  {
   "cell_type": "markdown",
   "metadata": {},
   "source": [
    "## Finding analytical solutions and solutions by forward-difference method"
   ]
  },
  {
   "cell_type": "code",
   "execution_count": 3,
   "metadata": {},
   "outputs": [],
   "source": [
    "t_end = 1\n",
    "Nx_1 = 11\n",
    "Nt_1 = 201\n",
    "\n",
    "analytic_solution_1 = analytic(t_end, Nx_1, Nt_1)\n",
    "difference_solution_1 = difference(t_end, Nx_1, Nt_1)\n",
    "\n",
    "Nx_2 = 101\n",
    "Nt_2 = 20001\n",
    "\n",
    "analytic_solution_2 = analytic(t_end, Nx_2, Nt_2)\n",
    "difference_solution_2 = difference(t_end, Nx_2, Nt_2)\n"
   ]
  },
  {
   "cell_type": "markdown",
   "metadata": {},
   "source": [
    "## Evaluation of forward-difference solutions"
   ]
  },
  {
   "cell_type": "code",
   "execution_count": 4,
   "metadata": {},
   "outputs": [
    {
     "name": "stdout",
     "output_type": "stream",
     "text": [
      "Maximal absolute difference between difference solution 1 and analytical solution 1: 0.006163504616922555\n",
      "Maximal absolute difference between difference solution 2 and analytical solution 2: 6.052469419354223e-05\n"
     ]
    }
   ],
   "source": [
    "# Maximal absolute differences\n",
    "print('Maximal absolute difference between difference solution 1 and analytical solution 1: {}'.format(\n",
    "    np.max(np.abs(difference_solution_1 - analytic_solution_1))))\n",
    "print('Maximal absolute difference between difference solution 2 and analytical solution 2: {}'.format(\n",
    "    np.max(np.abs(difference_solution_2 - analytic_solution_2))))"
   ]
  },
  {
   "cell_type": "code",
   "execution_count": null,
   "metadata": {},
   "outputs": [],
   "source": [
    "## Finding solutions by using a neural network"
   ]
  },
  {
   "cell_type": "code",
   "execution_count": 8,
   "metadata": {},
   "outputs": [
    {
     "name": "stdout",
     "output_type": "stream",
     "text": [
      "Neural\n",
      "[<tf.Tensor 'loss/gradients/AddN:0' shape=(2211, 1) dtype=float64>]\n",
      "[<tf.Tensor 'loss/gradients_2/AddN_4:0' shape=(2211, 1) dtype=float64>]\n",
      "Iteration 0. Loss: 11.444024085998535\n",
      "Iteration 1000. Loss: 0.4537202715873718\n",
      "Iteration 2000. Loss: 0.20002096891403198\n",
      "Iteration 3000. Loss: 0.14370638132095337\n",
      "Iteration 4000. Loss: 0.08566262573003769\n",
      "Iteration 5000. Loss: 0.08780090510845184\n",
      "Iteration 6000. Loss: 0.07508470118045807\n",
      "Iteration 7000. Loss: 0.06084087863564491\n",
      "Iteration 8000. Loss: 0.049800485372543335\n",
      "Iteration 9000. Loss: 0.043145425617694855\n",
      "Iteration 10000. Loss: 0.0376594103872776\n",
      "Iteration 11000. Loss: 0.033119961619377136\n",
      "Iteration 12000. Loss: 0.029337475076317787\n",
      "Iteration 13000. Loss: 0.026168769225478172\n",
      "Iteration 14000. Loss: 0.023501519113779068\n",
      "Iteration 15000. Loss: 0.02124597318470478\n",
      "Iteration 16000. Loss: 0.019329553470015526\n",
      "Iteration 17000. Loss: 0.017693212255835533\n",
      "Iteration 18000. Loss: 0.016288569197058678\n",
      "Iteration 19000. Loss: 0.01507584098726511\n",
      "Iteration 20000. Loss: 0.014022271148860455\n",
      "Iteration 21000. Loss: 0.013100886717438698\n",
      "Iteration 22000. Loss: 0.012289517559111118\n",
      "Iteration 23000. Loss: 0.011569967493414879\n",
      "Iteration 24000. Loss: 0.01092730276286602\n",
      "Iteration 25000. Loss: 0.01034929882735014\n",
      "Iteration 26000. Loss: 0.009825939312577248\n",
      "Iteration 27000. Loss: 0.009348977357149124\n",
      "Iteration 28000. Loss: 0.008911659941077232\n",
      "Iteration 29000. Loss: 0.008508414030075073\n",
      "Iteration 30000. Loss: 0.008134635165333748\n",
      "Iteration 31000. Loss: 0.007786521688103676\n",
      "Iteration 32000. Loss: 0.007460905238986015\n",
      "Iteration 33000. Loss: 0.00715516647323966\n",
      "Iteration 34000. Loss: 0.00686711585149169\n",
      "Iteration 35000. Loss: 0.006594923324882984\n",
      "Iteration 36000. Loss: 0.006337068974971771\n",
      "Iteration 37000. Loss: 0.006092287600040436\n",
      "Iteration 38000. Loss: 0.00585951330140233\n",
      "Iteration 39000. Loss: 0.0056378645822405815\n",
      "Iteration 40000. Loss: 0.005426600109785795\n",
      "Iteration 41000. Loss: 0.005225092172622681\n",
      "Iteration 42000. Loss: 0.005032803397625685\n",
      "Iteration 43000. Loss: 0.0048492709174752235\n",
      "Iteration 44000. Loss: 0.00467407563701272\n",
      "Iteration 45000. Loss: 0.004506842233240604\n",
      "Iteration 46000. Loss: 0.004347218666225672\n",
      "Iteration 47000. Loss: 0.004194864071905613\n",
      "Iteration 48000. Loss: 0.004049454350024462\n",
      "Iteration 49000. Loss: 0.0039106691256165504\n",
      "Iteration 50000. Loss: 0.003778197104111314\n",
      "Iteration 51000. Loss: 0.0036517251282930374\n",
      "Iteration 52000. Loss: 0.00353095680475235\n",
      "Iteration 53000. Loss: 0.003415594808757305\n",
      "Iteration 54000. Loss: 0.003305352060124278\n",
      "Iteration 55000. Loss: 0.0031999568454921246\n",
      "Iteration 56000. Loss: 0.0030991416424512863\n",
      "Iteration 57000. Loss: 0.0030026561580598354\n",
      "Iteration 58000. Loss: 0.0029102603439241648\n",
      "[[0.        ]\n",
      " [0.30901699]\n",
      " [0.58778525]\n",
      " ...\n",
      " [0.00554778]\n",
      " [0.00320817]\n",
      " [0.        ]]\n",
      "(2211, 1)\n"
     ]
    }
   ],
   "source": [
    "tf.reset_default_graph()\n",
    "neural_solution_1 = neural(t_end, Nx_1, Nt_1, num_hidden_neurons=[20, 20], learning_rate=0.01, num_iter=100000, tolerance=0.003)"
   ]
  },
  {
   "cell_type": "code",
   "execution_count": 7,
   "metadata": {},
   "outputs": [
    {
     "name": "stdout",
     "output_type": "stream",
     "text": [
      "Neural\n",
      "[<tf.Tensor 'loss/gradients/AddN:0' shape=(2020101, 1) dtype=float64>]\n",
      "[<tf.Tensor 'loss/gradients_2/AddN_3:0' shape=(2020101, 1) dtype=float64>]\n",
      "Iteration 0. Loss: 10.543259620666504\n"
     ]
    },
    {
     "ename": "KeyboardInterrupt",
     "evalue": "",
     "output_type": "error",
     "traceback": [
      "\u001b[0;31m---------------------------------------------------------------------------\u001b[0m",
      "\u001b[0;31mKeyboardInterrupt\u001b[0m                         Traceback (most recent call last)",
      "\u001b[0;32m<ipython-input-7-68712048949d>\u001b[0m in \u001b[0;36m<module>\u001b[0;34m()\u001b[0m\n\u001b[1;32m      1\u001b[0m \u001b[0mtf\u001b[0m\u001b[0;34m.\u001b[0m\u001b[0mreset_default_graph\u001b[0m\u001b[0;34m(\u001b[0m\u001b[0;34m)\u001b[0m\u001b[0;34m\u001b[0m\u001b[0m\n\u001b[0;32m----> 2\u001b[0;31m \u001b[0mneural_solution_1\u001b[0m \u001b[0;34m=\u001b[0m \u001b[0mneural\u001b[0m\u001b[0;34m(\u001b[0m\u001b[0mt_end\u001b[0m\u001b[0;34m,\u001b[0m \u001b[0mNx_2\u001b[0m\u001b[0;34m,\u001b[0m \u001b[0mNt_2\u001b[0m\u001b[0;34m,\u001b[0m \u001b[0mnum_hidden_neurons\u001b[0m\u001b[0;34m=\u001b[0m\u001b[0;34m[\u001b[0m\u001b[0;36m8\u001b[0m\u001b[0;34m]\u001b[0m\u001b[0;34m,\u001b[0m \u001b[0mlearning_rate\u001b[0m\u001b[0;34m=\u001b[0m\u001b[0;36m0.01\u001b[0m\u001b[0;34m,\u001b[0m \u001b[0mnum_iter\u001b[0m\u001b[0;34m=\u001b[0m\u001b[0;36m100000\u001b[0m\u001b[0;34m,\u001b[0m \u001b[0mtolerance\u001b[0m\u001b[0;34m=\u001b[0m\u001b[0;36m0.003\u001b[0m\u001b[0;34m)\u001b[0m\u001b[0;34m\u001b[0m\u001b[0m\n\u001b[0m",
      "\u001b[0;32m~/Documents/Master/FYS-STK/project3/src/neural.py\u001b[0m in \u001b[0;36mneural\u001b[0;34m(t_end, Nx, Nt, num_hidden_neurons, num_iter, learning_rate, tolerance)\u001b[0m\n\u001b[1;32m     54\u001b[0m                 \u001b[0;32mif\u001b[0m \u001b[0mcurrent_loss\u001b[0m \u001b[0;34m<\u001b[0m \u001b[0mtolerance\u001b[0m\u001b[0;34m:\u001b[0m\u001b[0;34m\u001b[0m\u001b[0m\n\u001b[1;32m     55\u001b[0m                     \u001b[0;32mbreak\u001b[0m\u001b[0;34m\u001b[0m\u001b[0m\n\u001b[0;32m---> 56\u001b[0;31m             \u001b[0msess\u001b[0m\u001b[0;34m.\u001b[0m\u001b[0mrun\u001b[0m\u001b[0;34m(\u001b[0m\u001b[0mtraining_op\u001b[0m\u001b[0;34m)\u001b[0m\u001b[0;34m\u001b[0m\u001b[0m\n\u001b[0m\u001b[1;32m     57\u001b[0m         \u001b[0mg_dnn\u001b[0m \u001b[0;34m=\u001b[0m \u001b[0mg_trial\u001b[0m\u001b[0;34m.\u001b[0m\u001b[0meval\u001b[0m\u001b[0;34m(\u001b[0m\u001b[0;34m)\u001b[0m\u001b[0;34m\u001b[0m\u001b[0m\n\u001b[1;32m     58\u001b[0m         \u001b[0mprint\u001b[0m\u001b[0;34m(\u001b[0m\u001b[0mg_dnn\u001b[0m\u001b[0;34m)\u001b[0m\u001b[0;34m\u001b[0m\u001b[0m\n",
      "\u001b[0;32m//anaconda/lib/python3.5/site-packages/tensorflow/python/client/session.py\u001b[0m in \u001b[0;36mrun\u001b[0;34m(self, fetches, feed_dict, options, run_metadata)\u001b[0m\n\u001b[1;32m    776\u001b[0m     \u001b[0;32mtry\u001b[0m\u001b[0;34m:\u001b[0m\u001b[0;34m\u001b[0m\u001b[0m\n\u001b[1;32m    777\u001b[0m       result = self._run(None, fetches, feed_dict, options_ptr,\n\u001b[0;32m--> 778\u001b[0;31m                          run_metadata_ptr)\n\u001b[0m\u001b[1;32m    779\u001b[0m       \u001b[0;32mif\u001b[0m \u001b[0mrun_metadata\u001b[0m\u001b[0;34m:\u001b[0m\u001b[0;34m\u001b[0m\u001b[0m\n\u001b[1;32m    780\u001b[0m         \u001b[0mproto_data\u001b[0m \u001b[0;34m=\u001b[0m \u001b[0mtf_session\u001b[0m\u001b[0;34m.\u001b[0m\u001b[0mTF_GetBuffer\u001b[0m\u001b[0;34m(\u001b[0m\u001b[0mrun_metadata_ptr\u001b[0m\u001b[0;34m)\u001b[0m\u001b[0;34m\u001b[0m\u001b[0m\n",
      "\u001b[0;32m//anaconda/lib/python3.5/site-packages/tensorflow/python/client/session.py\u001b[0m in \u001b[0;36m_run\u001b[0;34m(self, handle, fetches, feed_dict, options, run_metadata)\u001b[0m\n\u001b[1;32m    980\u001b[0m     \u001b[0;32mif\u001b[0m \u001b[0mfinal_fetches\u001b[0m \u001b[0;32mor\u001b[0m \u001b[0mfinal_targets\u001b[0m\u001b[0;34m:\u001b[0m\u001b[0;34m\u001b[0m\u001b[0m\n\u001b[1;32m    981\u001b[0m       results = self._do_run(handle, final_targets, final_fetches,\n\u001b[0;32m--> 982\u001b[0;31m                              feed_dict_string, options, run_metadata)\n\u001b[0m\u001b[1;32m    983\u001b[0m     \u001b[0;32melse\u001b[0m\u001b[0;34m:\u001b[0m\u001b[0;34m\u001b[0m\u001b[0m\n\u001b[1;32m    984\u001b[0m       \u001b[0mresults\u001b[0m \u001b[0;34m=\u001b[0m \u001b[0;34m[\u001b[0m\u001b[0;34m]\u001b[0m\u001b[0;34m\u001b[0m\u001b[0m\n",
      "\u001b[0;32m//anaconda/lib/python3.5/site-packages/tensorflow/python/client/session.py\u001b[0m in \u001b[0;36m_do_run\u001b[0;34m(self, handle, target_list, fetch_list, feed_dict, options, run_metadata)\u001b[0m\n\u001b[1;32m   1030\u001b[0m     \u001b[0;32mif\u001b[0m \u001b[0mhandle\u001b[0m \u001b[0;32mis\u001b[0m \u001b[0;32mNone\u001b[0m\u001b[0;34m:\u001b[0m\u001b[0;34m\u001b[0m\u001b[0m\n\u001b[1;32m   1031\u001b[0m       return self._do_call(_run_fn, self._session, feed_dict, fetch_list,\n\u001b[0;32m-> 1032\u001b[0;31m                            target_list, options, run_metadata)\n\u001b[0m\u001b[1;32m   1033\u001b[0m     \u001b[0;32melse\u001b[0m\u001b[0;34m:\u001b[0m\u001b[0;34m\u001b[0m\u001b[0m\n\u001b[1;32m   1034\u001b[0m       return self._do_call(_prun_fn, self._session, handle, feed_dict,\n",
      "\u001b[0;32m//anaconda/lib/python3.5/site-packages/tensorflow/python/client/session.py\u001b[0m in \u001b[0;36m_do_call\u001b[0;34m(self, fn, *args)\u001b[0m\n\u001b[1;32m   1037\u001b[0m   \u001b[0;32mdef\u001b[0m \u001b[0m_do_call\u001b[0m\u001b[0;34m(\u001b[0m\u001b[0mself\u001b[0m\u001b[0;34m,\u001b[0m \u001b[0mfn\u001b[0m\u001b[0;34m,\u001b[0m \u001b[0;34m*\u001b[0m\u001b[0margs\u001b[0m\u001b[0;34m)\u001b[0m\u001b[0;34m:\u001b[0m\u001b[0;34m\u001b[0m\u001b[0m\n\u001b[1;32m   1038\u001b[0m     \u001b[0;32mtry\u001b[0m\u001b[0;34m:\u001b[0m\u001b[0;34m\u001b[0m\u001b[0m\n\u001b[0;32m-> 1039\u001b[0;31m       \u001b[0;32mreturn\u001b[0m \u001b[0mfn\u001b[0m\u001b[0;34m(\u001b[0m\u001b[0;34m*\u001b[0m\u001b[0margs\u001b[0m\u001b[0;34m)\u001b[0m\u001b[0;34m\u001b[0m\u001b[0m\n\u001b[0m\u001b[1;32m   1040\u001b[0m     \u001b[0;32mexcept\u001b[0m \u001b[0merrors\u001b[0m\u001b[0;34m.\u001b[0m\u001b[0mOpError\u001b[0m \u001b[0;32mas\u001b[0m \u001b[0me\u001b[0m\u001b[0;34m:\u001b[0m\u001b[0;34m\u001b[0m\u001b[0m\n\u001b[1;32m   1041\u001b[0m       \u001b[0mmessage\u001b[0m \u001b[0;34m=\u001b[0m \u001b[0mcompat\u001b[0m\u001b[0;34m.\u001b[0m\u001b[0mas_text\u001b[0m\u001b[0;34m(\u001b[0m\u001b[0me\u001b[0m\u001b[0;34m.\u001b[0m\u001b[0mmessage\u001b[0m\u001b[0;34m)\u001b[0m\u001b[0;34m\u001b[0m\u001b[0m\n",
      "\u001b[0;32m//anaconda/lib/python3.5/site-packages/tensorflow/python/client/session.py\u001b[0m in \u001b[0;36m_run_fn\u001b[0;34m(session, feed_dict, fetch_list, target_list, options, run_metadata)\u001b[0m\n\u001b[1;32m   1019\u001b[0m         return tf_session.TF_Run(session, options,\n\u001b[1;32m   1020\u001b[0m                                  \u001b[0mfeed_dict\u001b[0m\u001b[0;34m,\u001b[0m \u001b[0mfetch_list\u001b[0m\u001b[0;34m,\u001b[0m \u001b[0mtarget_list\u001b[0m\u001b[0;34m,\u001b[0m\u001b[0;34m\u001b[0m\u001b[0m\n\u001b[0;32m-> 1021\u001b[0;31m                                  status, run_metadata)\n\u001b[0m\u001b[1;32m   1022\u001b[0m \u001b[0;34m\u001b[0m\u001b[0m\n\u001b[1;32m   1023\u001b[0m     \u001b[0;32mdef\u001b[0m \u001b[0m_prun_fn\u001b[0m\u001b[0;34m(\u001b[0m\u001b[0msession\u001b[0m\u001b[0;34m,\u001b[0m \u001b[0mhandle\u001b[0m\u001b[0;34m,\u001b[0m \u001b[0mfeed_dict\u001b[0m\u001b[0;34m,\u001b[0m \u001b[0mfetch_list\u001b[0m\u001b[0;34m)\u001b[0m\u001b[0;34m:\u001b[0m\u001b[0;34m\u001b[0m\u001b[0m\n",
      "\u001b[0;31mKeyboardInterrupt\u001b[0m: "
     ]
    }
   ],
   "source": [
    "tf.reset_default_graph()\n",
    "neural_solution_1 = neural(t_end, Nx_2, Nt_2, num_hidden_neurons=[8], learning_rate=0.01, num_iter=100000, tolerance=0.003)"
   ]
  },
  {
   "cell_type": "code",
   "execution_count": 12,
   "metadata": {},
   "outputs": [
    {
     "data": {
      "image/png": "[encoded data removed]",
      "text/plain": [
       "<Figure size 432x288 with 1 Axes>"
      ]
     },
     "metadata": {
      "needs_background": "light"
     },
     "output_type": "display_data"
    }
   ],
   "source": [
    "t_values = np.linspace(0, t_end, Nt)\n",
    "x_values = np.linspace(0, 1, Nx)\n",
    "for no, t_value in enumerate(t_values):\n",
    "    if no % 30 == 0:\n",
    "        values = neural_solution_1[no]\n",
    "        plt.plot(x_values, values, label='t={}'.format(t_value))\n",
    "plt.legend()\n",
    "plt.grid(True)\n",
    "plt.show()"
   ]
  },
  {
   "cell_type": "markdown",
   "metadata": {},
   "source": [
    "## Evaluation of neural network solutions"
   ]
  },
  {
   "cell_type": "code",
   "execution_count": 9,
   "metadata": {},
   "outputs": [
    {
     "name": "stdout",
     "output_type": "stream",
     "text": [
      "Maximal absolute difference between neural solution 1 and analytical solution 1: 0.008333383816292027\n"
     ]
    }
   ],
   "source": [
    "# Maximal absolute differences\n",
    "print('Maximal absolute difference between neural solution 1 and analytical solution 1: {}'.format(\n",
    "    np.max(np.abs(neural_solution_1 - analytic_solution_1))))\n",
    "# print('Maximal absolute difference between neural solution 2 and analytical solution 2: {}'.format(\n",
    "    # np.max(np.abs(neural_solution_2 - analytic_solution_2))))"
   ]
  }
 ],
 "metadata": {
  "kernelspec": {
   "display_name": "Python [conda root]",
   "language": "python",
   "name": "conda-root-py"
  },
  "language_info": {
   "codemirror_mode": {
    "name": "ipython",
    "version": 3
   },
   "file_extension": ".py",
   "mimetype": "text/x-python",
   "name": "python",
   "nbconvert_exporter": "python",
   "pygments_lexer": "ipython3",
   "version": "3.5.6"
  }
 },
 "nbformat": 4,
 "nbformat_minor": 2
}
